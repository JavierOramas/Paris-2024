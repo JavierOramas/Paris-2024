{
 "cells": [
  {
   "cell_type": "code",
   "execution_count": null,
   "metadata": {},
   "outputs": [],
   "source": [
    "from bs4 import BeautifulSoup\n",
    "import requests\n",
    "from selenium import webdriver \n",
    "from selenium.webdriver.common.by import By\n",
    "from selenium.webdriver.support.ui import WebDriverWait\n",
    "from selenium.webdriver.support import expected_conditions as EC\n",
    "import time"
   ]
  },
  {
   "cell_type": "code",
   "execution_count": null,
   "metadata": {},
   "outputs": [],
   "source": [
    "driver = webdriver.Firefox()\n",
    "driver.get(\"https://www.besoccer.com/competition/teams/summer_olympics\")"
   ]
  },
  {
   "cell_type": "code",
   "execution_count": null,
   "metadata": {},
   "outputs": [],
   "source": [
    "driver"
   ]
  },
  {
   "cell_type": "code",
   "execution_count": null,
   "metadata": {},
   "outputs": [],
   "source": [
    "title = driver.title\n",
    "title"
   ]
  },
  {
   "cell_type": "code",
   "execution_count": null,
   "metadata": {},
   "outputs": [],
   "source": [
    "print(driver.page_source)"
   ]
  },
  {
   "cell_type": "code",
   "execution_count": null,
   "metadata": {},
   "outputs": [],
   "source": [
    "wait = WebDriverWait(driver, 10)\n",
    "element = wait.until(EC.presence_of_element_located((By.XPATH, \"/html/body/div[1]/div/div/div/div[2]/div/button[2]/span\")))"
   ]
  },
  {
   "cell_type": "code",
   "execution_count": null,
   "metadata": {},
   "outputs": [],
   "source": [
    "cookies_botom = driver.find_element(By.XPATH , '/html/body/div[1]/div/div/div/div[2]/div/button[2]')\n",
    "cookies_botom.click()"
   ]
  },
  {
   "cell_type": "code",
   "execution_count": null,
   "metadata": {},
   "outputs": [],
   "source": [
    "all_h1 = driver.find_elements(By.TAG_NAME , \"h1\")\n",
    "for h1 in all_h1:\n",
    "    print(h1.text)"
   ]
  },
  {
   "cell_type": "code",
   "execution_count": null,
   "metadata": {},
   "outputs": [],
   "source": [
    "driver.implicitly_wait(5)\n",
    "teams = driver.find_element(By.CLASS_NAME , \"item-box\")\n",
    "teams_link = teams.find_element(By.TAG_NAME , \"a\").get_attribute('href')\n",
    "driver.get(teams_link)"
   ]
  },
  {
   "cell_type": "code",
   "execution_count": null,
   "metadata": {},
   "outputs": [],
   "source": [
    "driver.implicitly_wait(5)\n",
    "menu = driver.find_elements(By.CLASS_NAME , \"menu-item\")\n",
    "for item in menu:\n",
    "    print(item.text)\n",
    "    if item.text == 'SQUAD':\n",
    "        squad_link = item.get_attribute('href')\n"
   ]
  },
  {
   "cell_type": "code",
   "execution_count": null,
   "metadata": {},
   "outputs": [],
   "source": [
    "print(squad_link)"
   ]
  },
  {
   "cell_type": "code",
   "execution_count": null,
   "metadata": {},
   "outputs": [],
   "source": [
    "driver.get(squad_link)"
   ]
  },
  {
   "cell_type": "code",
   "execution_count": null,
   "metadata": {},
   "outputs": [],
   "source": [
    "from selenium.webdriver.support.ui import Select"
   ]
  },
  {
   "cell_type": "code",
   "execution_count": null,
   "metadata": {},
   "outputs": [],
   "source": [
    "driver.implicitly_wait(5)\n",
    "competicions = driver.find_element(By.ID , 'competition')\n",
    "competicions = Select(competicions)\n",
    "competicions = competicions.options\n",
    "competicion = [x for x in competicions]\n"
   ]
  },
  {
   "cell_type": "markdown",
   "metadata": {},
   "source": []
  },
  {
   "cell_type": "code",
   "execution_count": null,
   "metadata": {},
   "outputs": [],
   "source": [
    "player_names=[]\n",
    "season_2024 = False\n",
    "for i in range(len(competicion)-1):\n",
    "    driver.implicitly_wait(5)\n",
    "    competicions = driver.find_element(By.ID , 'competition')\n",
    "    competicions = Select(competicions)\n",
    "    competicions = competicions.options\n",
    "    competicion = [x for x in competicions]\n",
    "    print(competicion[i].text)\n",
    "    competicion[i].click()\n",
    "\n",
    "    time.sleep(10)\n",
    "\n",
    "    seasons = driver.find_element(By.ID , 'season')\n",
    "    seasons = Select(seasons)\n",
    "    seasons = seasons.options\n",
    "    season = [x for x in seasons]\n",
    "    for j in range(len(season)):\n",
    "        seasons = driver.find_element(By.ID , 'season')\n",
    "        seasons = Select(seasons)\n",
    "        seasons = seasons.options\n",
    "        season = [x for x in seasons]\n",
    "        print(season[j].text)\n",
    "        if season[j].text == '2024':\n",
    "            season_2024 = True\n",
    "            player_names = [td.text for td in driver.find_elements(By.CLASS_NAME,'name')]\n",
    "            break\n",
    "    if season_2024:\n",
    "        break\n",
    "    time.sleep(5)"
   ]
  },
  {
   "cell_type": "code",
   "execution_count": null,
   "metadata": {},
   "outputs": [],
   "source": [
    "player_names"
   ]
  },
  {
   "cell_type": "code",
   "execution_count": null,
   "metadata": {},
   "outputs": [],
   "source": [
    "# import time\n",
    "# player_names=[]\n",
    "\n",
    "# for competicion in competicions:\n",
    "#     driver.implicitly_wait(60)\n",
    "#     time.sleep(3)\n",
    "#     competicion.click()\n",
    "#     time.sleep(3)\n",
    "#     driver.implicitly_wait(60)\n",
    "#     seasons = driver.find_element(By.ID, \"season\")\n",
    "#     print(\"elemento\")\n",
    "#     seasons= Select(seasons)\n",
    "#     seasons = seasons.options\n",
    "#     for season in seasons:\n",
    "#         print(season.text)\n",
    "#         if season.text == \"2024\":\n",
    "#             player_names = [td.get_text() for td in driver.find_elements(By.CLASS_NAME,'name')]\n",
    "#             print(\"Llegué\")\n",
    "#             break\n",
    "# print(player_names)"
   ]
  },
  {
   "cell_type": "code",
   "execution_count": null,
   "metadata": {},
   "outputs": [],
   "source": [
    "#driver.quit()"
   ]
  }
 ],
 "metadata": {
  "kernelspec": {
   "display_name": "env",
   "language": "python",
   "name": "python3"
  },
  "language_info": {
   "codemirror_mode": {
    "name": "ipython",
    "version": 3
   },
   "file_extension": ".py",
   "mimetype": "text/x-python",
   "name": "python",
   "nbconvert_exporter": "python",
   "pygments_lexer": "ipython3",
   "version": "3.12.3"
  }
 },
 "nbformat": 4,
 "nbformat_minor": 2
}
