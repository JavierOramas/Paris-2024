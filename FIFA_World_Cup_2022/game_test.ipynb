{
 "cells": [
  {
   "cell_type": "code",
   "execution_count": 1,
   "metadata": {},
   "outputs": [],
   "source": [
    "\n",
    "\n",
    "from planning.football import football_model\n",
    "from planning.search import breadth_first_tree_search\n",
    "from planning.planning import ForwardPlan\n",
    "from team import Team\n",
    "from game import Football\n",
    "from field import Field\n",
    "from team import Team\n",
    "zones = [\n",
    "    \"Defense Left\",\n",
    "    \"Defense Center\",\n",
    "    \"Defense Right\",\n",
    "\n",
    "    \"Midfield Left\",\n",
    "    \"Midfield Center\",\n",
    "    \"Midfield Right\",\n",
    "\n",
    "    \"Attack Left\",\n",
    "    \"Attack Center\",\n",
    "    \"Attack Right\"\n",
    "]\n",
    "field = Field(\"f1\", 3, 3, zones)\n"
   ]
  },
  {
   "cell_type": "code",
   "execution_count": null,
   "metadata": {},
   "outputs": [],
   "source": []
  },
  {
   "cell_type": "code",
   "execution_count": 2,
   "metadata": {},
   "outputs": [],
   "source": [
    "# x = game.play()\n"
   ]
  },
  {
   "cell_type": "code",
   "execution_count": 3,
   "metadata": {},
   "outputs": [],
   "source": [
    "# for i in range(1):\n",
    "#     game = Football(team1, team2, field, 45)\n",
    "#     x = game.play()\n",
    "#     match[x.team_name] += 1\n",
    "\n",
    "# match"
   ]
  },
  {
   "cell_type": "code",
   "execution_count": 4,
   "metadata": {},
   "outputs": [
    {
     "name": "stdout",
     "output_type": "stream",
     "text": [
      "Start Game\n",
      "Time:  0\r"
     ]
    },
    {
     "ename": "KeyboardInterrupt",
     "evalue": "",
     "output_type": "error",
     "traceback": [
      "\u001b[0;31m---------------------------------------------------------------------------\u001b[0m",
      "\u001b[0;31mKeyboardInterrupt\u001b[0m                         Traceback (most recent call last)",
      "Cell \u001b[0;32mIn [4], line 40\u001b[0m\n\u001b[1;32m     36\u001b[0m group_F \u001b[38;5;241m=\u001b[39m [(\u001b[38;5;124m'\u001b[39m\u001b[38;5;124mbelgium\u001b[39m\u001b[38;5;124m'\u001b[39m, \u001b[38;5;124m'\u001b[39m\u001b[38;5;124mcanada\u001b[39m\u001b[38;5;124m'\u001b[39m), (\u001b[38;5;124m'\u001b[39m\u001b[38;5;124mbelgium\u001b[39m\u001b[38;5;124m'\u001b[39m, \u001b[38;5;124m'\u001b[39m\u001b[38;5;124mmorocco\u001b[39m\u001b[38;5;124m'\u001b[39m), (\u001b[38;5;124m'\u001b[39m\u001b[38;5;124mbelgium\u001b[39m\u001b[38;5;124m'\u001b[39m, \u001b[38;5;124m'\u001b[39m\u001b[38;5;124mcroatia\u001b[39m\u001b[38;5;124m'\u001b[39m), (\u001b[38;5;124m'\u001b[39m\u001b[38;5;124mcanada\u001b[39m\u001b[38;5;124m'\u001b[39m, \u001b[38;5;124m'\u001b[39m\u001b[38;5;124mmorocco\u001b[39m\u001b[38;5;124m'\u001b[39m), (\u001b[38;5;124m'\u001b[39m\u001b[38;5;124mcanada\u001b[39m\u001b[38;5;124m'\u001b[39m, \u001b[38;5;124m'\u001b[39m\u001b[38;5;124mcroatia\u001b[39m\u001b[38;5;124m'\u001b[39m), (\u001b[38;5;124m'\u001b[39m\u001b[38;5;124mmorocco\u001b[39m\u001b[38;5;124m'\u001b[39m, \u001b[38;5;124m'\u001b[39m\u001b[38;5;124mcroatia\u001b[39m\u001b[38;5;124m'\u001b[39m)]\n\u001b[1;32m     38\u001b[0m matches \u001b[38;5;241m=\u001b[39m [(\u001b[38;5;124m\"\u001b[39m\u001b[38;5;124mportugal\u001b[39m\u001b[38;5;124m\"\u001b[39m, \u001b[38;5;124m\"\u001b[39m\u001b[38;5;124mghana\u001b[39m\u001b[38;5;124m\"\u001b[39m),(\u001b[38;5;124m'\u001b[39m\u001b[38;5;124mportugal\u001b[39m\u001b[38;5;124m'\u001b[39m, \u001b[38;5;124m'\u001b[39m\u001b[38;5;124muruguay\u001b[39m\u001b[38;5;124m'\u001b[39m),(\u001b[38;5;124m'\u001b[39m\u001b[38;5;124mportugal\u001b[39m\u001b[38;5;124m'\u001b[39m, \u001b[38;5;124m'\u001b[39m\u001b[38;5;124msouth-korea\u001b[39m\u001b[38;5;124m'\u001b[39m),(\u001b[38;5;124m'\u001b[39m\u001b[38;5;124mghana\u001b[39m\u001b[38;5;124m'\u001b[39m, \u001b[38;5;124m\"\u001b[39m\u001b[38;5;124muruguay\u001b[39m\u001b[38;5;124m\"\u001b[39m),(\u001b[38;5;124m'\u001b[39m\u001b[38;5;124mghana\u001b[39m\u001b[38;5;124m'\u001b[39m, \u001b[38;5;124m\"\u001b[39m\u001b[38;5;124msouth-korea\u001b[39m\u001b[38;5;124m\"\u001b[39m),(\u001b[38;5;124m\"\u001b[39m\u001b[38;5;124muruguay\u001b[39m\u001b[38;5;124m\"\u001b[39m, \u001b[38;5;124m\"\u001b[39m\u001b[38;5;124msouth-korea\u001b[39m\u001b[38;5;124m\"\u001b[39m)]\n\u001b[0;32m---> 40\u001b[0m run_group_matches(group_A, \u001b[38;5;124m'\u001b[39m\u001b[38;5;124mgroup_A\u001b[39m\u001b[38;5;124m'\u001b[39m)\n",
      "Cell \u001b[0;32mIn [4], line 25\u001b[0m, in \u001b[0;36mrun_group_matches\u001b[0;34m(matches, group_name, iterations)\u001b[0m\n\u001b[1;32m     22\u001b[0m         \u001b[38;5;28;01mmatch\u001b[39;00m[x\u001b[38;5;241m.\u001b[39mteam_name] \u001b[38;5;241m+\u001b[39m\u001b[38;5;241m=\u001b[39m \u001b[38;5;241m1\u001b[39m\n\u001b[1;32m     24\u001b[0m \u001b[38;5;28;01mfor\u001b[39;00m i \u001b[38;5;129;01min\u001b[39;00m \u001b[38;5;28mrange\u001b[39m(iterations):\n\u001b[0;32m---> 25\u001b[0m     \u001b[43mfunction_x\u001b[49m\u001b[43m(\u001b[49m\u001b[43m)\u001b[49m\n\u001b[1;32m     27\u001b[0m df \u001b[38;5;241m=\u001b[39m df\u001b[38;5;241m.\u001b[39mappend({\u001b[38;5;124m'\u001b[39m\u001b[38;5;124mTeam1\u001b[39m\u001b[38;5;124m'\u001b[39m: team1\u001b[38;5;241m.\u001b[39mteam_name, \u001b[38;5;124m'\u001b[39m\u001b[38;5;124mTeam2\u001b[39m\u001b[38;5;124m'\u001b[39m: team2\u001b[38;5;241m.\u001b[39mteam_name, \u001b[38;5;124m'\u001b[39m\u001b[38;5;124mWins1\u001b[39m\u001b[38;5;124m'\u001b[39m: match[team1\u001b[38;5;241m.\u001b[39mteam_name], \u001b[38;5;124m'\u001b[39m\u001b[38;5;124mWins2\u001b[39m\u001b[38;5;124m'\u001b[39m: match[team2\u001b[38;5;241m.\u001b[39mteam_name]}, ignore_index\u001b[38;5;241m=\u001b[39m\u001b[38;5;28;01mTrue\u001b[39;00m)\n\u001b[1;32m     28\u001b[0m \u001b[38;5;28mprint\u001b[39m(df)\n",
      "Cell \u001b[0;32mIn [4], line 20\u001b[0m, in \u001b[0;36mrun_group_matches.<locals>.function_x\u001b[0;34m()\u001b[0m\n\u001b[1;32m     18\u001b[0m \u001b[38;5;28;01mdef\u001b[39;00m \u001b[38;5;21mfunction_x\u001b[39m():\n\u001b[1;32m     19\u001b[0m     game \u001b[38;5;241m=\u001b[39m Football(team1, team2, field, \u001b[38;5;241m90\u001b[39m)\n\u001b[0;32m---> 20\u001b[0m     x \u001b[38;5;241m=\u001b[39m \u001b[43mgame\u001b[49m\u001b[38;5;241;43m.\u001b[39;49m\u001b[43mplay\u001b[49m\u001b[43m(\u001b[49m\u001b[43m)\u001b[49m\n\u001b[1;32m     21\u001b[0m     \u001b[38;5;28;01mif\u001b[39;00m x \u001b[38;5;129;01mis\u001b[39;00m \u001b[38;5;129;01mnot\u001b[39;00m \u001b[38;5;28;01mNone\u001b[39;00m:\n\u001b[1;32m     22\u001b[0m         \u001b[38;5;28;01mmatch\u001b[39;00m[x\u001b[38;5;241m.\u001b[39mteam_name] \u001b[38;5;241m+\u001b[39m\u001b[38;5;241m=\u001b[39m \u001b[38;5;241m1\u001b[39m\n",
      "File \u001b[0;32m~/Desktop/Proyecto FIFA/FIFA_World_Cup_2022/game.py:50\u001b[0m, in \u001b[0;36mFootball.play\u001b[0;34m(self)\u001b[0m\n\u001b[1;32m     48\u001b[0m     actions_defenses\u001b[39m=\u001b[39m \u001b[39mself\u001b[39m\u001b[39m.\u001b[39mmove_player_in_team_without_ballposicion(player_with_ballposition,\u001b[39mself\u001b[39m\u001b[39m.\u001b[39mteam1)\n\u001b[1;32m     49\u001b[0m variables ,problem \u001b[39m=\u001b[39mfootball\u001b[39m.\u001b[39mfootball_model(team_with_ball_possession,player_with_ballposition)\n\u001b[0;32m---> 50\u001b[0m sol \u001b[39m=\u001b[39m breadth_first_tree_search(ForwardPlan(problem))\n\u001b[1;32m     51\u001b[0m action_of_player_with_ball, prob \u001b[39m=\u001b[39m \u001b[39mself\u001b[39m\u001b[39m.\u001b[39mget_best_solution(sol,variables)\n\u001b[1;32m     52\u001b[0m results \u001b[39m=\u001b[39m \u001b[39mself\u001b[39m\u001b[39m.\u001b[39mchoose_player_success((player_with_ballposition, action_of_player_with_ball), variables,actions_defenses, \u001b[39mself\u001b[39m\u001b[39m.\u001b[39mfield\u001b[39m.\u001b[39mcoords_to_zone)\n",
      "File \u001b[0;32m~/Desktop/Proyecto FIFA/FIFA_World_Cup_2022/planning/search.py:229\u001b[0m, in \u001b[0;36mbreadth_first_tree_search\u001b[0;34m(problem, iterations)\u001b[0m\n\u001b[1;32m    227\u001b[0m     \u001b[39mif\u001b[39;00m problem\u001b[39m.\u001b[39mgoal_test(node\u001b[39m.\u001b[39mstate):\n\u001b[1;32m    228\u001b[0m         solutions_nodes\u001b[39m.\u001b[39mappend(node)\n\u001b[0;32m--> 229\u001b[0m     frontier\u001b[39m.\u001b[39mextend(node\u001b[39m.\u001b[39;49mexpand(problem))\n\u001b[1;32m    230\u001b[0m     iterations \u001b[39m-\u001b[39m\u001b[39m=\u001b[39m \u001b[39m1\u001b[39m\n\u001b[1;32m    231\u001b[0m \u001b[39m# print(len(solutions_nodes))\u001b[39;00m\n",
      "File \u001b[0;32m~/Desktop/Proyecto FIFA/FIFA_World_Cup_2022/planning/search.py:90\u001b[0m, in \u001b[0;36mNode.expand\u001b[0;34m(self, problem)\u001b[0m\n\u001b[1;32m     88\u001b[0m \u001b[39mdef\u001b[39;00m \u001b[39mexpand\u001b[39m(\u001b[39mself\u001b[39m, problem):\n\u001b[1;32m     89\u001b[0m     \u001b[39m\"\"\"List the nodes reachable in one step from this node.\"\"\"\u001b[39;00m\n\u001b[0;32m---> 90\u001b[0m     \u001b[39mreturn\u001b[39;00m [\u001b[39mself\u001b[39m\u001b[39m.\u001b[39mchild_node(problem, action)\n\u001b[1;32m     91\u001b[0m             \u001b[39mfor\u001b[39;00m action \u001b[39min\u001b[39;00m problem\u001b[39m.\u001b[39mactions(\u001b[39mself\u001b[39m\u001b[39m.\u001b[39mstate)]\n",
      "File \u001b[0;32m~/Desktop/Proyecto FIFA/FIFA_World_Cup_2022/planning/search.py:90\u001b[0m, in \u001b[0;36m<listcomp>\u001b[0;34m(.0)\u001b[0m\n\u001b[1;32m     88\u001b[0m \u001b[39mdef\u001b[39;00m \u001b[39mexpand\u001b[39m(\u001b[39mself\u001b[39m, problem):\n\u001b[1;32m     89\u001b[0m     \u001b[39m\"\"\"List the nodes reachable in one step from this node.\"\"\"\u001b[39;00m\n\u001b[0;32m---> 90\u001b[0m     \u001b[39mreturn\u001b[39;00m [\u001b[39mself\u001b[39;49m\u001b[39m.\u001b[39;49mchild_node(problem, action)\n\u001b[1;32m     91\u001b[0m             \u001b[39mfor\u001b[39;00m action \u001b[39min\u001b[39;00m problem\u001b[39m.\u001b[39mactions(\u001b[39mself\u001b[39m\u001b[39m.\u001b[39mstate)]\n",
      "File \u001b[0;32m~/Desktop/Proyecto FIFA/FIFA_World_Cup_2022/planning/search.py:94\u001b[0m, in \u001b[0;36mNode.child_node\u001b[0;34m(self, problem, action)\u001b[0m\n\u001b[1;32m     93\u001b[0m \u001b[39mdef\u001b[39;00m \u001b[39mchild_node\u001b[39m(\u001b[39mself\u001b[39m, problem, action):\n\u001b[0;32m---> 94\u001b[0m     next_state \u001b[39m=\u001b[39m problem\u001b[39m.\u001b[39;49mresult(\u001b[39mself\u001b[39;49m\u001b[39m.\u001b[39;49mstate, action)\n\u001b[1;32m     95\u001b[0m     next_node \u001b[39m=\u001b[39m Node(next_state, \u001b[39mself\u001b[39m, action,\n\u001b[1;32m     96\u001b[0m                      problem\u001b[39m.\u001b[39mpath_cost(\u001b[39mself\u001b[39m\u001b[39m.\u001b[39mpath_cost, \u001b[39mself\u001b[39m\u001b[39m.\u001b[39mstate, action, next_state))\n\u001b[1;32m     97\u001b[0m     \u001b[39mreturn\u001b[39;00m next_node\n",
      "File \u001b[0;32m~/Desktop/Proyecto FIFA/FIFA_World_Cup_2022/planning/planning.py:298\u001b[0m, in \u001b[0;36mForwardPlan.result\u001b[0;34m(self, state, action)\u001b[0m\n\u001b[1;32m    297\u001b[0m \u001b[39mdef\u001b[39;00m \u001b[39mresult\u001b[39m(\u001b[39mself\u001b[39m, state, action):\n\u001b[0;32m--> 298\u001b[0m     \u001b[39mreturn\u001b[39;00m associate(\u001b[39m'\u001b[39m\u001b[39m&\u001b[39m\u001b[39m'\u001b[39m, action(conjuncts(state), action\u001b[39m.\u001b[39;49margs)\u001b[39m.\u001b[39mclauses)\n",
      "File \u001b[0;32m~/Desktop/Proyecto FIFA/FIFA_World_Cup_2022/planning/planning.py:189\u001b[0m, in \u001b[0;36mAction.__call__\u001b[0;34m(self, kb, args)\u001b[0m\n\u001b[1;32m    188\u001b[0m \u001b[39mdef\u001b[39;00m \u001b[39m__call__\u001b[39m(\u001b[39mself\u001b[39m, kb, args):\n\u001b[0;32m--> 189\u001b[0m     \u001b[39mreturn\u001b[39;00m \u001b[39mself\u001b[39;49m\u001b[39m.\u001b[39;49mact(kb, args)\n",
      "File \u001b[0;32m~/Desktop/Proyecto FIFA/FIFA_World_Cup_2022/planning/planning.py:259\u001b[0m, in \u001b[0;36mAction.act\u001b[0;34m(self, kb, args)\u001b[0m\n\u001b[1;32m    256\u001b[0m     \u001b[39melse\u001b[39;00m:\n\u001b[1;32m    257\u001b[0m         new_clause \u001b[39m=\u001b[39m Expr(\u001b[39m'\u001b[39m\u001b[39mNot\u001b[39m\u001b[39m'\u001b[39m \u001b[39m+\u001b[39m clause\u001b[39m.\u001b[39mop, \u001b[39m*\u001b[39mclause\u001b[39m.\u001b[39margs)\n\u001b[0;32m--> 259\u001b[0m         \u001b[39mif\u001b[39;00m kb\u001b[39m.\u001b[39;49mask(\u001b[39mself\u001b[39;49m\u001b[39m.\u001b[39;49msubstitute(new_clause, args)) \u001b[39mis\u001b[39;00m \u001b[39mnot\u001b[39;00m \u001b[39mFalse\u001b[39;00m:\n\u001b[1;32m    260\u001b[0m             kb\u001b[39m.\u001b[39mretract(\u001b[39mself\u001b[39m\u001b[39m.\u001b[39msubstitute(new_clause, args))\n\u001b[1;32m    262\u001b[0m \u001b[39mreturn\u001b[39;00m kb\n",
      "File \u001b[0;32m~/Desktop/Proyecto FIFA/FIFA_World_Cup_2022/planning/logic.py:33\u001b[0m, in \u001b[0;36mKB.ask\u001b[0;34m(self, query)\u001b[0m\n\u001b[1;32m     31\u001b[0m \u001b[39mdef\u001b[39;00m \u001b[39mask\u001b[39m(\u001b[39mself\u001b[39m, query):\n\u001b[1;32m     32\u001b[0m     \u001b[39m\"\"\"Return a substitution that makes the query true, or, failing that, return False.\"\"\"\u001b[39;00m\n\u001b[0;32m---> 33\u001b[0m     \u001b[39mreturn\u001b[39;00m first(\u001b[39mself\u001b[39;49m\u001b[39m.\u001b[39;49mask_generator(query), default\u001b[39m=\u001b[39;49m\u001b[39mFalse\u001b[39;49;00m)\n",
      "File \u001b[0;32m~/Desktop/Proyecto FIFA/FIFA_World_Cup_2022/planning/utils.py:70\u001b[0m, in \u001b[0;36mfirst\u001b[0;34m(iterable, default)\u001b[0m\n\u001b[1;32m     68\u001b[0m \u001b[39mdef\u001b[39;00m \u001b[39mfirst\u001b[39m(iterable, default\u001b[39m=\u001b[39m\u001b[39mNone\u001b[39;00m):\n\u001b[1;32m     69\u001b[0m     \u001b[39m\"\"\"Return the first element of an iterable; or default.\"\"\"\u001b[39;00m\n\u001b[0;32m---> 70\u001b[0m     \u001b[39mreturn\u001b[39;00m \u001b[39mnext\u001b[39;49m(\u001b[39miter\u001b[39;49m(iterable), default)\n",
      "File \u001b[0;32m~/Desktop/Proyecto FIFA/FIFA_World_Cup_2022/planning/logic.py:747\u001b[0m, in \u001b[0;36mfol_bc_or\u001b[0;34m(kb, goal, theta)\u001b[0m\n\u001b[1;32m    745\u001b[0m \u001b[39mdef\u001b[39;00m \u001b[39mfol_bc_or\u001b[39m(kb, goal, theta):\n\u001b[1;32m    746\u001b[0m     \u001b[39mfor\u001b[39;00m rule \u001b[39min\u001b[39;00m kb\u001b[39m.\u001b[39mfetch_rules_for_goal(goal):\n\u001b[0;32m--> 747\u001b[0m         lhs, rhs \u001b[39m=\u001b[39m parse_definite_clause(standardize_variables(rule))\n\u001b[1;32m    748\u001b[0m         \u001b[39mfor\u001b[39;00m theta1 \u001b[39min\u001b[39;00m fol_bc_and(kb, lhs, unify_mm(rhs, goal, theta)):\n\u001b[1;32m    749\u001b[0m             \u001b[39myield\u001b[39;00m theta1\n",
      "File \u001b[0;32m~/Desktop/Proyecto FIFA/FIFA_World_Cup_2022/planning/logic.py:640\u001b[0m, in \u001b[0;36mstandardize_variables\u001b[0;34m(sentence, dic)\u001b[0m\n\u001b[1;32m    638\u001b[0m         \u001b[39mreturn\u001b[39;00m v\n\u001b[1;32m    639\u001b[0m \u001b[39melse\u001b[39;00m:\n\u001b[0;32m--> 640\u001b[0m     \u001b[39mreturn\u001b[39;00m Expr(sentence\u001b[39m.\u001b[39mop, \u001b[39m*\u001b[39m[standardize_variables(a, dic) \u001b[39mfor\u001b[39;00m a \u001b[39min\u001b[39;00m sentence\u001b[39m.\u001b[39margs])\n",
      "File \u001b[0;32m~/Desktop/Proyecto FIFA/FIFA_World_Cup_2022/planning/logic.py:640\u001b[0m, in \u001b[0;36m<listcomp>\u001b[0;34m(.0)\u001b[0m\n\u001b[1;32m    638\u001b[0m         \u001b[39mreturn\u001b[39;00m v\n\u001b[1;32m    639\u001b[0m \u001b[39melse\u001b[39;00m:\n\u001b[0;32m--> 640\u001b[0m     \u001b[39mreturn\u001b[39;00m Expr(sentence\u001b[39m.\u001b[39mop, \u001b[39m*\u001b[39m[standardize_variables(a, dic) \u001b[39mfor\u001b[39;00m a \u001b[39min\u001b[39;00m sentence\u001b[39m.\u001b[39margs])\n",
      "\u001b[0;31mKeyboardInterrupt\u001b[0m: "
     ]
    }
   ],
   "source": [
    "from multiprocessing import Process\n",
    "from time import sleep\n",
    "import pandas as pd\n",
    "from typing import List, Tuple\n",
    "\n",
    "def run_group_matches(matches: List[Tuple[str, str]], group_name: str, iterations=30):\n",
    "    df = pd.DataFrame(columns=['Team1', 'Team2', 'Wins1', \"Wins2\"])\n",
    "    for t1,t2 in matches:\n",
    "        team1 = Team(t2, field.field)\n",
    "        team2 = Team(t1, field.field)\n",
    "\n",
    "        Pros = []\n",
    "        match = {\n",
    "            team1.team_name: 0,\n",
    "            team2.team_name: 0\n",
    "        }\n",
    "\n",
    "        def function_x():\n",
    "            game = Football(team1, team2, field, 90)\n",
    "            x = game.play()\n",
    "            if x is not None:\n",
    "                match[x.team_name] += 1\n",
    "        \n",
    "        for i in range(iterations):\n",
    "            function_x()\n",
    "        \n",
    "        df = df.append({'Team1': team1.team_name, 'Team2': team2.team_name, 'Wins1': match[team1.team_name], 'Wins2': match[team2.team_name]}, ignore_index=True)\n",
    "        print(df)\n",
    "    df.to_csv(f'{group_name}.csv')\n",
    "\n",
    "group_A = [('qatar', 'ecuador'), ('qatar', 'senegal'), ('qatar', 'netherlands'), ('ecuador', 'senegal'), ('ecuador', 'netherlands'), ('senegal', 'netherlands')]\n",
    "group_B = [('england', 'iran'), ('england', 'usa'), ('england', 'wales'), ('iran', 'usa'), ('iran', 'wales'), ('usa', 'wales')]\n",
    "group_C = [('argentina', 'saudi-arabia'), ('argentina', 'mexico'), ('argentina', 'poland'), ('saudi-arabia', 'mexico'), ('saudi-arabia', 'poland'), ('mexico', 'poland')]\n",
    "group_D = [('france', 'australia'), ('france', 'denmark'), ('france', 'tunisia'), ('australia', 'denmark'), ('australia', 'tunisia'), ('denmark', 'tunisia')]\n",
    "group_E = [('spain', 'costa-rica'), ('spain', 'germany'), ('spain', 'japan'), ('costa-rica', 'germany'), ('costa-rica', 'japan'), ('germany', 'japan')]\n",
    "group_F = [('belgium', 'canada'), ('belgium', 'morocco'), ('belgium', 'croatia'), ('canada', 'morocco'), ('canada', 'croatia'), ('morocco', 'croatia')]\n",
    "\n",
    "matches = [(\"portugal\", \"ghana\"),('portugal', 'uruguay'),('portugal', 'south-korea'),('ghana', \"uruguay\"),('ghana', \"south-korea\"),(\"uruguay\", \"south-korea\")]\n",
    "\n",
    "run_group_matches(group_A, 'group_A')\n",
    "# df = pd.DataFrame(columns=['Team1', 'Team2','Wins1', \"Wins2\"])\n",
    "\n",
    "# for t1,t2 in matches:\n",
    "#     team1 = Team(t2, field.field)\n",
    "#     team2 = Team(t1, field.field)\n",
    "\n",
    "\n",
    "#     Pros = []\n",
    "#     match = {\n",
    "#         team1.team_name: 0,\n",
    "#         team2.team_name: 0\n",
    "#     }\n",
    "\n",
    "#     def function_x():\n",
    "#         game = Football(team1, team2, field, 90)\n",
    "#         x = game.play()\n",
    "#         if x is not None:\n",
    "#             match[x.team_name] += 1\n",
    "     \n",
    "\n",
    "#     for i in range(10):\n",
    "#         function_x()\n",
    "    \n",
    "#     df.append({'Team1': team1.team_name, 'Team2': team2.team_name, 'Wins1': match[team1.team_name], 'Wins2': match[team2.team_name]}, ignore_index=True)\n",
    "#     print(df)\n",
    "\n"
   ]
  },
  {
   "cell_type": "code",
   "execution_count": null,
   "metadata": {},
   "outputs": [],
   "source": [
    "# match"
   ]
  },
  {
   "cell_type": "code",
   "execution_count": null,
   "metadata": {},
   "outputs": [],
   "source": []
  },
  {
   "cell_type": "code",
   "execution_count": null,
   "metadata": {},
   "outputs": [],
   "source": []
  },
  {
   "cell_type": "code",
   "execution_count": null,
   "metadata": {},
   "outputs": [],
   "source": []
  },
  {
   "cell_type": "code",
   "execution_count": null,
   "metadata": {},
   "outputs": [],
   "source": [
    "# df"
   ]
  },
  {
   "cell_type": "code",
   "execution_count": null,
   "metadata": {},
   "outputs": [],
   "source": [
    "\n",
    "# matches = [(\"brazil\", \"serbia\"),(\"brazil\", 'switzerland'),('brazil', 'cameroon'),('serbia', \"switzerland\"),('serbia', \"cameroon\"),(\"switzerland\", \"cameroon\")]\n",
    "# df = pd.DataFrame(columns=['Team1', 'Team2','Wins1', \"Wins2\"])\n",
    "\n",
    "# for t1,t2 in matches:\n",
    "#     team1 = Team(t2, field.field)\n",
    "#     team2 = Team(t1, field.field)\n",
    "\n",
    "\n",
    "#     Pros = []\n",
    "#     match = {\n",
    "#         team1.team_name: 0,\n",
    "#         team2.team_name: 0\n",
    "#     }\n",
    "\n",
    "#     def function_x():\n",
    "#         game = Football(team1, team2, field, 90)\n",
    "#         x = game.play()\n",
    "#         if x is not None:\n",
    "#             match[x.team_name] += 1\n",
    "     \n",
    "\n",
    "#     for i in range(10):\n",
    "#         function_x()\n",
    "    \n",
    "#     df.append({'Team1': team1.team_name, 'Team2': team2.team_name, 'Wins1': match[team1.team_name], 'Wins2': match[team2.team_name]}, ignore_index=True)\n",
    "#     print(df)\n",
    "\n"
   ]
  },
  {
   "cell_type": "code",
   "execution_count": null,
   "metadata": {},
   "outputs": [],
   "source": [
    "# df.dump_csv(\"group_g.csv\")"
   ]
  }
 ],
 "metadata": {
  "kernelspec": {
   "display_name": "Python 3.9.7 ('base')",
   "language": "python",
   "name": "python3"
  },
  "language_info": {
   "codemirror_mode": {
    "name": "ipython",
    "version": 3
   },
   "file_extension": ".py",
   "mimetype": "text/x-python",
   "name": "python",
   "nbconvert_exporter": "python",
   "pygments_lexer": "ipython3",
   "version": "3.9.7"
  },
  "orig_nbformat": 4,
  "vscode": {
   "interpreter": {
    "hash": "588779d6ef7e6f81e2169a879779fc8e5995f47f76c0b461de7632fa84667fbc"
   }
  }
 },
 "nbformat": 4,
 "nbformat_minor": 2
}
